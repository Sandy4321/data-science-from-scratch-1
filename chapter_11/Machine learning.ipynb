{
 "cells": [
  {
   "cell_type": "markdown",
   "metadata": {},
   "source": [
    "# Chapter 11 - Machine Learning"
   ]
  },
  {
   "cell_type": "code",
   "execution_count": 1,
   "metadata": {},
   "outputs": [],
   "source": [
    "import math\n",
    "import random"
   ]
  },
  {
   "cell_type": "code",
   "execution_count": 2,
   "metadata": {},
   "outputs": [],
   "source": [
    "import matplotlib.pyplot as plt\n",
    "from matplotlib.path import Path\n",
    "import matplotlib.patches as patches\n",
    "%matplotlib inline"
   ]
  },
  {
   "cell_type": "markdown",
   "metadata": {},
   "source": [
    "It's important to test your algorithm on different data from that used in training. The typical way of doing that is to randomly split your data into training and test sets."
   ]
  },
  {
   "cell_type": "code",
   "execution_count": 3,
   "metadata": {},
   "outputs": [],
   "source": [
    "def split_data(data, prob):\n",
    "    \"\"\"\n",
    "    split data into fractions [prob, 1 - prob]\n",
    "    \"\"\"\n",
    "    results = [], []\n",
    "    for row in data:\n",
    "        results[0 if random.random() < prob else 1].append(row)\n",
    "    return results"
   ]
  },
  {
   "cell_type": "code",
   "execution_count": 4,
   "metadata": {},
   "outputs": [],
   "source": [
    "def train_test_split(x, y, test_pct):\n",
    "    \"\"\"\n",
    "    Make train/test split.\n",
    "    \"\"\"\n",
    "    data = zip(x, y)\n",
    "    train, test = split_data(data, 1 - test_pct)\n",
    "    x_train, y_train = zip(*train)\n",
    "    x_test, y_test = zip(*test)\n",
    "    return x_train, x_test, y_train, y_test"
   ]
  },
  {
   "cell_type": "code",
   "execution_count": 5,
   "metadata": {},
   "outputs": [],
   "source": [
    "def rmse(y, y_hat):\n",
    "    return math.sqrt(sum((y_i - y_hat_i)**2 for y_i, y_hat_i in zip(y, y_hat))/len(y))"
   ]
  },
  {
   "cell_type": "markdown",
   "metadata": {},
   "source": [
    "## Make data\n",
    "\n",
    "In this case y is a linear function of x with a little noise thrown in, just for fun."
   ]
  },
  {
   "cell_type": "code",
   "execution_count": 6,
   "metadata": {},
   "outputs": [],
   "source": [
    "x = [xi for xi in range(20)]\n",
    "y = [2*xi + random.gauss(mu=0.0, sigma=2.0) + 7 for xi in x]"
   ]
  },
  {
   "cell_type": "code",
   "execution_count": 7,
   "metadata": {},
   "outputs": [
    {
     "data": {
      "image/png": "[encoded data removed]",
      "text/plain": [
       "<matplotlib.figure.Figure at 0x10f8d49b0>"
      ]
     },
     "metadata": {},
     "output_type": "display_data"
    }
   ],
   "source": [
    "plt.plot(x, y, '+')\n",
    "plt.show()"
   ]
  },
  {
   "cell_type": "code",
   "execution_count": 8,
   "metadata": {},
   "outputs": [],
   "source": [
    "x_train, x_test, y_train, y_test = train_test_split(x, y, 0.33)"
   ]
  },
  {
   "cell_type": "code",
   "execution_count": 9,
   "metadata": {},
   "outputs": [],
   "source": [
    "y_hat = [2.0*xi + 7 for xi in x_train]"
   ]
  },
  {
   "cell_type": "code",
   "execution_count": 10,
   "metadata": {},
   "outputs": [
    {
     "data": {
      "text/plain": [
       "1.946868280450711"
      ]
     },
     "execution_count": 10,
     "metadata": {},
     "output_type": "execute_result"
    }
   ],
   "source": [
    "rmse(y_train, y_hat)"
   ]
  },
  {
   "cell_type": "markdown",
   "metadata": {},
   "source": [
    "Using the lamest machine learning algorithm in the world, find minimum-ish value for beta. Clearly, we're fitting noise here."
   ]
  },
  {
   "cell_type": "code",
   "execution_count": 11,
   "metadata": {},
   "outputs": [
    {
     "name": "stdout",
     "output_type": "stream",
     "text": [
      "beta1=1.9560, beta0=6.9001, rmse= 1.8297\n"
     ]
    }
   ],
   "source": [
    "beta1 = float('NaN')\n",
    "beta0 = float('NaN')\n",
    "min_error  = float('inf')\n",
    "for a in range(2000):\n",
    "    for b in range(2000):\n",
    "        beta1i = a * 0.0001 + 1.9\n",
    "        beta0i = b + 0.0001 + 6.9\n",
    "        y_hat = [beta1i*xi + beta0i for xi in x_train]\n",
    "        error = rmse(y_train, y_hat)\n",
    "        if error < min_error:\n",
    "            min_error = error\n",
    "            beta1 = beta1i\n",
    "            beta0 = beta0i\n",
    "print(f'beta1={beta1:6.4f}, beta0={beta0:6.04f}, rmse={min_error:7.4f}')"
   ]
  },
  {
   "cell_type": "markdown",
   "metadata": {},
   "source": [
    "Since we've over-fit, we might expect these coefficients will perform a little worse on our held-out test set."
   ]
  },
  {
   "cell_type": "code",
   "execution_count": 12,
   "metadata": {},
   "outputs": [
    {
     "name": "stdout",
     "output_type": "stream",
     "text": [
      "beta1=1.9560, beta0=6.9001, rmse= 2.2348\n"
     ]
    }
   ],
   "source": [
    "y_hat = [beta1*xi + beta0 for xi in x_test]\n",
    "test_error = rmse(y_test, y_hat)\n",
    "print(f'beta1={beta1:6.4f}, beta0={beta0:6.04f}, rmse={test_error:7.4f}')"
   ]
  },
  {
   "cell_type": "markdown",
   "metadata": {},
   "source": [
    "The true coeffients do a little better. We added noise, so we can't expect perfect performance."
   ]
  },
  {
   "cell_type": "code",
   "execution_count": 13,
   "metadata": {},
   "outputs": [
    {
     "name": "stdout",
     "output_type": "stream",
     "text": [
      "beta1=2.0000, beta0=7.0000, rmse= 1.9995\n"
     ]
    }
   ],
   "source": [
    "beta1, beta0 = 2, 7\n",
    "y_hat = [beta1*xi + beta0 for xi in x_test]\n",
    "test_error = rmse(y_test, y_hat)\n",
    "print(f'beta1={beta1:6.4f}, beta0={beta0:6.04f}, rmse={test_error:7.4f}')"
   ]
  },
  {
   "cell_type": "markdown",
   "metadata": {},
   "source": [
    "## Grope-search\n",
    "\n",
    "This is a very silly algorithm and grope-search is the name I made up. The idea is to try to minimize error by groping about randomly. Sometimes, I feel like I live my life this way. It's a good thing we live in a low-dimensional space with lots of structure to it."
   ]
  },
  {
   "cell_type": "code",
   "execution_count": 22,
   "metadata": {},
   "outputs": [
    {
     "name": "stdout",
     "output_type": "stream",
     "text": [
      "beta1=2.0375, beta0=5.7592, rmse= 1.7375\n"
     ]
    }
   ],
   "source": [
    "beta1 = 1.0\n",
    "beta0 = 1.0\n",
    "sigma = 10.0\n",
    "min_error  = float('inf')\n",
    "\n",
    "beta_hats = [(beta1,beta0)]\n",
    "\n",
    "for i in range(10000):\n",
    "    for j in range(25):\n",
    "        beta1j = random.gauss(mu=beta1, sigma=sigma)\n",
    "        beta0j = random.gauss(mu=beta0, sigma=sigma)\n",
    "        y_hat = [beta1j*xi + beta0j for xi in x_train]\n",
    "        error_j = rmse(y_train, y_hat)\n",
    "\n",
    "        if error_j < min_error:\n",
    "            min_error = error_j\n",
    "            beta1 = beta1j\n",
    "            beta0 = beta0j\n",
    "    beta_hats.append((beta1,beta0))\n",
    "    sigma -= 1/1000\n",
    "\n",
    "print(f'beta1={beta1:6.4f}, beta0={beta0:6.04f}, rmse={min_error:7.4f}')"
   ]
  },
  {
   "cell_type": "code",
   "execution_count": 23,
   "metadata": {},
   "outputs": [
    {
     "data": {
      "image/png": "[encoded data removed]",
      "text/plain": [
       "<matplotlib.figure.Figure at 0x10fb00a90>"
      ]
     },
     "metadata": {},
     "output_type": "display_data"
    }
   ],
   "source": [
    "plt.plot([x for x,y in beta_hats], [y for x,y in beta_hats])\n",
    "plt.show()"
   ]
  },
  {
   "cell_type": "code",
   "execution_count": null,
   "metadata": {},
   "outputs": [],
   "source": []
  }
 ],
 "metadata": {
  "kernelspec": {
   "display_name": "Python 3",
   "language": "python",
   "name": "python3"
  },
  "language_info": {
   "codemirror_mode": {
    "name": "ipython",
    "version": 3
   },
   "file_extension": ".py",
   "mimetype": "text/x-python",
   "name": "python",
   "nbconvert_exporter": "python",
   "pygments_lexer": "ipython3",
   "version": "3.6.5"
  }
 },
 "nbformat": 4,
 "nbformat_minor": 2
}
