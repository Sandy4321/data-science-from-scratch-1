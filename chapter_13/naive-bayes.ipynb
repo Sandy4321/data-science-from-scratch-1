{
 "cells": [
  {
   "cell_type": "markdown",
   "metadata": {},
   "source": [
    "# Chapter 13 - Naive Bayes Spam Filter"
   ]
  },
  {
   "cell_type": "code",
   "execution_count": 1,
   "metadata": {},
   "outputs": [],
   "source": [
    "import re\n",
    "from collections import Counter, defaultdict\n",
    "import math, random, re"
   ]
  },
  {
   "cell_type": "code",
   "execution_count": 2,
   "metadata": {},
   "outputs": [],
   "source": [
    "def tokenize(message):\n",
    "    message = message.lower()\n",
    "    all_words = re.findall(\"[a-z0-9']+\", message)\n",
    "    return set(all_words)"
   ]
  },
  {
   "cell_type": "code",
   "execution_count": 3,
   "metadata": {},
   "outputs": [
    {
     "data": {
      "text/plain": [
       "{'1729',\n",
       " 'and',\n",
       " 'brown',\n",
       " 'c3po',\n",
       " 'd2',\n",
       " 'dogs',\n",
       " 'fox',\n",
       " 'jumped',\n",
       " 'lazy',\n",
       " 'over',\n",
       " 'quick',\n",
       " 'r2',\n",
       " 'the'}"
      ]
     },
     "execution_count": 3,
     "metadata": {},
     "output_type": "execute_result"
    }
   ],
   "source": [
    "tokenize('The quick brown fox jumped over R2-D2, C3PO and 1729 lazy dogs!!!!!')"
   ]
  },
  {
   "cell_type": "code",
   "execution_count": 4,
   "metadata": {},
   "outputs": [],
   "source": [
    "def count_words(training_set):\n",
    "    \"\"\"\n",
    "    training set consists of pairs (message, is_spam)\n",
    "    \"\"\"\n",
    "    counts = defaultdict(lambda: [0, 0])\n",
    "    for message, is_spam in training_set:\n",
    "        for word in tokenize(message):\n",
    "            counts[word][0 if is_spam else 1] += 1\n",
    "    return counts"
   ]
  },
  {
   "cell_type": "code",
   "execution_count": 5,
   "metadata": {},
   "outputs": [],
   "source": [
    "def word_probabilities(counts, total_spams, total_non_spams, k=0.5):\n",
    "    \"\"\"\n",
    "    turn the word_counts into a list of triplets\n",
    "    w, p(w | spam) and p(w | ~spam)\n",
    "    \"\"\"\n",
    "    return [(w,\n",
    "             (spam + k) / (total_spams + 2 * k),\n",
    "             (non_spam + k) / (total_non_spams + 2 * k))\n",
    "            for w, (spam, non_spam) in counts.items()]"
   ]
  },
  {
   "cell_type": "code",
   "execution_count": 6,
   "metadata": {},
   "outputs": [],
   "source": [
    "def spam_probability(word_probs, message):\n",
    "    message_words = tokenize(message)\n",
    "    log_prob_if_spam = log_prob_if_not_spam = 0.0\n",
    "\n",
    "    for word, prob_if_spam, prob_if_not_spam in word_probs:\n",
    "\n",
    "        # for each word in the message,\n",
    "        # add the log probability of seeing it\n",
    "        if word in message_words:\n",
    "            log_prob_if_spam += math.log(prob_if_spam)\n",
    "            log_prob_if_not_spam += math.log(prob_if_not_spam)\n",
    "\n",
    "        # for each word that's not in the message\n",
    "        # add the log probability of _not_ seeing it\n",
    "        else:\n",
    "            log_prob_if_spam += math.log(1.0 - prob_if_spam)\n",
    "            log_prob_if_not_spam += math.log(1.0 - prob_if_not_spam)\n",
    "\n",
    "    prob_if_spam = math.exp(log_prob_if_spam)\n",
    "    prob_if_not_spam = math.exp(log_prob_if_not_spam)\n",
    "    return prob_if_spam / (prob_if_spam + prob_if_not_spam)"
   ]
  },
  {
   "cell_type": "code",
   "execution_count": 7,
   "metadata": {},
   "outputs": [],
   "source": [
    "class NaiveBayesClassifier:\n",
    "\n",
    "    def __init__(self, k=0.5):\n",
    "        self.k = k\n",
    "        self.word_probs = []\n",
    "\n",
    "    def train(self, training_set):\n",
    "\n",
    "        # count spam and non-spam messages\n",
    "        num_spams = sum(is_spam for message,is_spam in training_set)\n",
    "        num_non_spams = len(training_set) - num_spams\n",
    "\n",
    "        # run training data through our \"pipeline\"\n",
    "        word_counts = count_words(training_set)\n",
    "        self.word_probs = word_probabilities(word_counts,\n",
    "                                             num_spams,\n",
    "                                             num_non_spams,\n",
    "                                             self.k)\n",
    "\n",
    "    def classify(self, message):\n",
    "        return spam_probability(self.word_probs, message)"
   ]
  },
  {
   "cell_type": "code",
   "execution_count": 8,
   "metadata": {},
   "outputs": [],
   "source": [
    "def p_spam_given_word(word_prob):\n",
    "    word, prob_if_spam, prob_if_not_spam = word_prob\n",
    "    return prob_if_spam / (prob_if_spam + prob_if_not_spam)"
   ]
  },
  {
   "cell_type": "code",
   "execution_count": 9,
   "metadata": {},
   "outputs": [],
   "source": [
    "def split_data(data, prob):\n",
    "    \"\"\"\n",
    "    split data into fractions [prob, 1 - prob]\n",
    "    \"\"\"\n",
    "    results = [], []\n",
    "    for row in data:\n",
    "        results[0 if random.random() < prob else 1].append(row)\n",
    "    return results"
   ]
  },
  {
   "cell_type": "markdown",
   "metadata": {},
   "source": [
    "We'll use data from the [SMS Spam Collection Data Set](https://archive.ics.uci.edu/ml/datasets/sms+spam+collection)"
   ]
  },
  {
   "cell_type": "code",
   "execution_count": 10,
   "metadata": {},
   "outputs": [],
   "source": [
    "data = []\n",
    "with open('../data/sms-spam/SMSSpamCollection', 'rt') as f:\n",
    "    for line in f:\n",
    "        label, msg = line.strip().split('\\t')\n",
    "        data.append((msg, label=='spam'))"
   ]
  },
  {
   "cell_type": "code",
   "execution_count": 11,
   "metadata": {},
   "outputs": [],
   "source": [
    "train_data, test_data = split_data(data, 0.75)"
   ]
  },
  {
   "cell_type": "code",
   "execution_count": 12,
   "metadata": {},
   "outputs": [
    {
     "data": {
      "text/plain": [
       "(4131, 1443)"
      ]
     },
     "execution_count": 12,
     "metadata": {},
     "output_type": "execute_result"
    }
   ],
   "source": [
    "len(train_data), len(test_data)"
   ]
  },
  {
   "cell_type": "code",
   "execution_count": 13,
   "metadata": {},
   "outputs": [],
   "source": [
    "classifier = NaiveBayesClassifier()\n",
    "classifier.train(train_data)"
   ]
  },
  {
   "cell_type": "code",
   "execution_count": 14,
   "metadata": {},
   "outputs": [
    {
     "data": {
      "text/plain": [
       "1.0775136697655685e-06"
      ]
     },
     "execution_count": 14,
     "metadata": {},
     "output_type": "execute_result"
    }
   ],
   "source": [
    "classifier.classify('The quick brown fox jumped over R2-D2, C3PO and 1729 lazy dogs!!!!!')"
   ]
  },
  {
   "cell_type": "code",
   "execution_count": 15,
   "metadata": {},
   "outputs": [
    {
     "data": {
      "text/plain": [
       "0.9388618227701127"
      ]
     },
     "execution_count": 15,
     "metadata": {},
     "output_type": "execute_result"
    }
   ],
   "source": [
    "classifier.classify('Claim your prize!!! cheap viagra!!! live girls!!')"
   ]
  },
  {
   "cell_type": "code",
   "execution_count": 16,
   "metadata": {},
   "outputs": [
    {
     "data": {
      "text/plain": [
       "1.3040583780535663e-10"
      ]
     },
     "execution_count": 16,
     "metadata": {},
     "output_type": "execute_result"
    }
   ],
   "source": [
    "classifier.classify('Hi honey. I will be late 4 dinner. love u')"
   ]
  },
  {
   "cell_type": "code",
   "execution_count": 17,
   "metadata": {},
   "outputs": [],
   "source": [
    "counts = Counter()\n",
    "spam_probs = []\n",
    "for message, is_spam in test_data:\n",
    "    spam_prob = classifier.classify(message)\n",
    "    counts[(is_spam, spam_prob>0.5)] += 1\n",
    "    spam_probs.append((message, is_spam, spam_prob))"
   ]
  },
  {
   "cell_type": "code",
   "execution_count": 28,
   "metadata": {},
   "outputs": [
    {
     "data": {
      "text/plain": [
       "(1443, 203)"
      ]
     },
     "execution_count": 28,
     "metadata": {},
     "output_type": "execute_result"
    }
   ],
   "source": [
    "len(test_data), sum(is_spam for message, is_spam in test_data)"
   ]
  },
  {
   "cell_type": "code",
   "execution_count": 18,
   "metadata": {},
   "outputs": [
    {
     "data": {
      "text/plain": [
       "(186, 0, 1240, 17)"
      ]
     },
     "execution_count": 18,
     "metadata": {},
     "output_type": "execute_result"
    }
   ],
   "source": [
    "tp = counts[(True, True)]\n",
    "fp = counts[(False, True)]\n",
    "tn = counts[(False, False)]\n",
    "fn = counts[(True, False)]\n",
    "tp, fp, tn, fn"
   ]
  },
  {
   "cell_type": "code",
   "execution_count": 19,
   "metadata": {},
   "outputs": [
    {
     "data": {
      "text/plain": [
       "1.0"
      ]
     },
     "execution_count": 19,
     "metadata": {},
     "output_type": "execute_result"
    }
   ],
   "source": [
    "# precision\n",
    "tp / (tp + fp)"
   ]
  },
  {
   "cell_type": "code",
   "execution_count": 20,
   "metadata": {},
   "outputs": [
    {
     "data": {
      "text/plain": [
       "0.916256157635468"
      ]
     },
     "execution_count": 20,
     "metadata": {},
     "output_type": "execute_result"
    }
   ],
   "source": [
    "# recall\n",
    "tp / (tp + fn)"
   ]
  },
  {
   "cell_type": "code",
   "execution_count": 21,
   "metadata": {},
   "outputs": [],
   "source": [
    "spam_probs.sort(key=lambda row: row[2])"
   ]
  },
  {
   "cell_type": "code",
   "execution_count": 22,
   "metadata": {},
   "outputs": [
    {
     "data": {
      "text/plain": [
       "[('Save yourself the stress. If the person has a dorm account, just send your account details and the money will be sent to you.',\n",
       "  False,\n",
       "  0.0005594627763162863),\n",
       " ('\"Keep ur problems in ur heart, b\\'coz nobody will fight for u. Only u &amp; u have to fight for ur self &amp; win the battle. -VIVEKANAND- G 9t.. SD..',\n",
       "  False,\n",
       "  0.0011252708587743464),\n",
       " ('Enjoy the showers of possessiveness poured on u by ur loved ones, bcoz in this world of lies, it is a golden gift to be loved truly..',\n",
       "  False,\n",
       "  0.001239572799324235),\n",
       " ('We are pleased to inform that your application for Airtel Broadband is processed successfully. Your installation will happen within 3 days.',\n",
       "  False,\n",
       "  0.0021193917161031715),\n",
       " ('Hi Chachi tried calling u now unable to reach u .. Pl give me a missed cal once u c tiz msg  Kanagu',\n",
       "  False,\n",
       "  0.004207961863632256)]"
      ]
     },
     "execution_count": 22,
     "metadata": {},
     "output_type": "execute_result"
    }
   ],
   "source": [
    "# spammiest_hams\n",
    "[row for row in spam_probs if not row[1]][-5:]"
   ]
  },
  {
   "cell_type": "code",
   "execution_count": 23,
   "metadata": {},
   "outputs": [
    {
     "data": {
      "text/plain": [
       "[(\"Do you ever notice that when you're driving, anyone going slower than you is an idiot and everyone driving faster than you is a maniac?\",\n",
       "  True,\n",
       "  8.331605444750579e-13),\n",
       " ('Did you hear about the new \"Divorce Barbie\"? It comes with all of Ken\\'s stuff!',\n",
       "  True,\n",
       "  1.5479767138222634e-09),\n",
       " ('Hello. We need some posh birds and chaps to user trial prods for champneys. Can i put you down? I need your address and dob asap. Ta r',\n",
       "  True,\n",
       "  7.477951002996785e-08),\n",
       " ('For sale - arsenal dartboard. Good condition but no doubles or trebles!',\n",
       "  True,\n",
       "  3.124560373960676e-06),\n",
       " (\"Oh my god! I've found your number again! I'm so glad, text me back xafter this msgs cst std ntwk chg £1.50\",\n",
       "  True,\n",
       "  4.030970628060635e-06)]"
      ]
     },
     "execution_count": 23,
     "metadata": {},
     "output_type": "execute_result"
    }
   ],
   "source": [
    "# hammiest_spams\n",
    "[row for row in spam_probs if row[1]][:5]"
   ]
  },
  {
   "cell_type": "code",
   "execution_count": 24,
   "metadata": {},
   "outputs": [],
   "source": [
    "words = sorted(classifier.word_probs, key=p_spam_given_word)"
   ]
  },
  {
   "cell_type": "code",
   "execution_count": 25,
   "metadata": {},
   "outputs": [
    {
     "data": {
      "text/plain": [
       "[('sae', 0.03211009174311927, 0.00013935340022296544),\n",
       " ('rate', 0.03394495412844037, 0.00013935340022296544),\n",
       " ('800', 0.03394495412844037, 0.00013935340022296544),\n",
       " ('000', 0.03577981651376147, 0.00013935340022296544),\n",
       " ('mob', 0.03761467889908257, 0.00013935340022296544),\n",
       " ('code', 0.03944954128440367, 0.00013935340022296544),\n",
       " ('ringtone', 0.04128440366972477, 0.00013935340022296544),\n",
       " ('150ppm', 0.04128440366972477, 0.00013935340022296544),\n",
       " ('collection', 0.04128440366972477, 0.00013935340022296544),\n",
       " ('awarded', 0.04862385321100918, 0.00013935340022296544),\n",
       " ('1000', 0.05412844036697248, 0.00013935340022296544),\n",
       " ('cs', 0.05412844036697248, 0.00013935340022296544),\n",
       " ('tone', 0.05779816513761468, 0.00013935340022296544),\n",
       " ('500', 0.05963302752293578, 0.00013935340022296544),\n",
       " ('18', 0.06697247706422019, 0.00013935340022296544),\n",
       " ('guaranteed', 0.06697247706422019, 0.00013935340022296544),\n",
       " ('won', 0.0908256880733945, 0.00013935340022296544),\n",
       " ('prize', 0.10550458715596331, 0.00013935340022296544),\n",
       " ('150p', 0.10550458715596331, 0.00013935340022296544),\n",
       " ('claim', 0.14403669724770643, 0.00013935340022296544)]"
      ]
     },
     "execution_count": 25,
     "metadata": {},
     "output_type": "execute_result"
    }
   ],
   "source": [
    "#spammiest_words\n",
    "words[-20:]"
   ]
  },
  {
   "cell_type": "code",
   "execution_count": 26,
   "metadata": {},
   "outputs": [
    {
     "data": {
      "text/plain": [
       "[('gt', 0.0009174311926605505, 0.04891304347826087),\n",
       " ('lt', 0.0009174311926605505, 0.048634336677814936),\n",
       " (\"i'll\", 0.0009174311926605505, 0.036371237458193977),\n",
       " ('he', 0.0009174311926605505, 0.029124860646599776),\n",
       " ('later', 0.0009174311926605505, 0.028846153846153848),\n",
       " ('lor', 0.0009174311926605505, 0.028288740245261984),\n",
       " ('da', 0.0009174311926605505, 0.0266164994425864),\n",
       " ('oh', 0.0009174311926605505, 0.022157190635451504),\n",
       " ('she', 0.0009174311926605505, 0.021321070234113712),\n",
       " ('wat', 0.0009174311926605505, 0.020206243032329988),\n",
       " ('doing', 0.0009174311926605505, 0.01797658862876254),\n",
       " ('ask', 0.0009174311926605505, 0.017697881828316612),\n",
       " ('lol', 0.0009174311926605505, 0.015468227424749164),\n",
       " ('morning', 0.0009174311926605505, 0.015468227424749164),\n",
       " ('said', 0.0009174311926605505, 0.015468227424749164),\n",
       " ('gud', 0.0009174311926605505, 0.014910813823857302),\n",
       " ('sure', 0.0009174311926605505, 0.014632107023411372),\n",
       " ('anything', 0.0009174311926605505, 0.014632107023411372),\n",
       " ('amp', 0.0009174311926605505, 0.01435340022296544),\n",
       " ('cos', 0.0009174311926605505, 0.01407469342251951)]"
      ]
     },
     "execution_count": 26,
     "metadata": {},
     "output_type": "execute_result"
    }
   ],
   "source": [
    "# hammiest words\n",
    "words[:20]"
   ]
  },
  {
   "cell_type": "code",
   "execution_count": null,
   "metadata": {},
   "outputs": [],
   "source": []
  }
 ],
 "metadata": {
  "kernelspec": {
   "display_name": "Python 3",
   "language": "python",
   "name": "python3"
  },
  "language_info": {
   "codemirror_mode": {
    "name": "ipython",
    "version": 3
   },
   "file_extension": ".py",
   "mimetype": "text/x-python",
   "name": "python",
   "nbconvert_exporter": "python",
   "pygments_lexer": "ipython3",
   "version": "3.6.5"
  }
 },
 "nbformat": 4,
 "nbformat_minor": 2
}
