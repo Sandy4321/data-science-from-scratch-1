{
 "cells": [
  {
   "cell_type": "code",
   "execution_count": 1,
   "metadata": {},
   "outputs": [],
   "source": [
    "import os.path\n",
    "import random\n",
    "import sys\n",
    "import matplotlib.pyplot as plt\n",
    "import seaborn as sns\n",
    "from math import *"
   ]
  },
  {
   "cell_type": "code",
   "execution_count": 2,
   "metadata": {},
   "outputs": [],
   "source": [
    "book_dir = '/Users/CBare/Documents/projects/data-science-from-scratch'\n",
    "sys.path.extend(os.path.join(book_dir, 'chapter_{:02d}'.format(i)) for i in [3,4,5,6,7,8])"
   ]
  },
  {
   "cell_type": "code",
   "execution_count": 3,
   "metadata": {},
   "outputs": [],
   "source": [
    "from stats import mean, de_mean, standard_deviation, correlation\n",
    "from gradient_descent import minimize_stochastic\n",
    "from vector import dot"
   ]
  },
  {
   "cell_type": "code",
   "execution_count": 4,
   "metadata": {},
   "outputs": [],
   "source": [
    "def predict(x_i, beta):\n",
    "    \"\"\"assumes that the first element of each x_i is 1\"\"\"\n",
    "    return dot(x_i, beta)"
   ]
  },
  {
   "cell_type": "markdown",
   "metadata": {},
   "source": [
    "## data"
   ]
  },
  {
   "cell_type": "markdown",
   "metadata": {},
   "source": [
    "The goal is to predict time spent on a site given 3 features, number of friends, work hours per day, and whether or not the person has a PhD.\n",
    "\n",
    "$$ minutes = \\alpha  + \\beta_1 friends + \\beta_2 work hours + \\beta_3 phd + \\epsilon $$\n",
    "\n",
    "Each person is represented as a vector of 4 elements, for example:\n",
    "```\n",
    "[ 1, # constant term\n",
    " 49, # number of friends\n",
    "  4, # work hours per day\n",
    "  0] # doesn't have PhD\n",
    "```"
   ]
  },
  {
   "cell_type": "code",
   "execution_count": 5,
   "metadata": {},
   "outputs": [],
   "source": [
    "x = [[1,49,4,0],[1,41,9,0],[1,40,8,0],[1,25,6,0],[1,21,1,0],[1,21,0,0],[1,19,3,0],\n",
    "     [1,19,0,0],[1,18,9,0],[1,18,8,0],[1,16,4,0],[1,15,3,0],[1,15,0,0],[1,15,2,0],\n",
    "     [1,15,7,0],[1,14,0,0],[1,14,1,0],[1,13,1,0],[1,13,7,0],[1,13,4,0],[1,13,2,0],\n",
    "     [1,12,5,0],[1,12,0,0],[1,11,9,0],[1,10,9,0],[1,10,1,0],[1,10,1,0],[1,10,7,0],\n",
    "     [1,10,9,0],[1,10,1,0],[1,10,6,0],[1,10,6,0],[1,10,8,0],[1,10,10,0],[1,10,6,0],\n",
    "     [1,10,0,0],[1,10,5,0],[1,10,3,0],[1,10,4,0],[1,9,9,0],[1,9,9,0],[1,9,0,0],\n",
    "     [1,9,0,0],[1,9,6,0],[1,9,10,0],[1,9,8,0],[1,9,5,0],[1,9,2,0],[1,9,9,0],[1,9,10,0],\n",
    "     [1,9,7,0],[1,9,2,0],[1,9,0,0],[1,9,4,0],[1,9,6,0],[1,9,4,0],[1,9,7,0],[1,8,3,0],\n",
    "     [1,8,2,0],[1,8,4,0],[1,8,9,0],[1,8,2,0],[1,8,3,0],[1,8,5,0],[1,8,8,0],[1,8,0,0],\n",
    "     [1,8,9,0],[1,8,10,0],[1,8,5,0],[1,8,5,0],[1,7,5,0],[1,7,5,0],[1,7,0,0],[1,7,2,0],\n",
    "     [1,7,8,0],[1,7,10,0],[1,7,5,0],[1,7,3,0],[1,7,3,0],[1,7,6,0],[1,7,7,0],[1,7,7,0],\n",
    "     [1,7,9,0],[1,7,3,0],[1,7,8,0],[1,6,4,0],[1,6,6,0],[1,6,4,0],[1,6,9,0],[1,6,0,0],\n",
    "     [1,6,1,0],[1,6,4,0],[1,6,1,0],[1,6,0,0],[1,6,7,0],[1,6,0,0],[1,6,8,0],[1,6,4,0],\n",
    "     [1,6,2,1],[1,6,1,1],[1,6,3,1],[1,6,6,1],[1,6,4,1],[1,6,4,1],[1,6,1,1],[1,6,3,1],\n",
    "     [1,6,4,1],[1,5,1,1],[1,5,9,1],[1,5,4,1],[1,5,6,1],[1,5,4,1],[1,5,4,1],[1,5,10,1],\n",
    "     [1,5,5,1],[1,5,2,1],[1,5,4,1],[1,5,4,1],[1,5,9,1],[1,5,3,1],[1,5,10,1],[1,5,2,1],\n",
    "     [1,5,2,1],[1,5,9,1],[1,4,8,1],[1,4,6,1],[1,4,0,1],[1,4,10,1],[1,4,5,1],[1,4,10,1],\n",
    "     [1,4,9,1],[1,4,1,1],[1,4,4,1],[1,4,4,1],[1,4,0,1],[1,4,3,1],[1,4,1,1],[1,4,3,1],\n",
    "     [1,4,2,1],[1,4,4,1],[1,4,4,1],[1,4,8,1],[1,4,2,1],[1,4,4,1],[1,3,2,1],[1,3,6,1],\n",
    "     [1,3,4,1],[1,3,7,1],[1,3,4,1],[1,3,1,1],[1,3,10,1],[1,3,3,1],[1,3,4,1],[1,3,7,1],\n",
    "     [1,3,5,1],[1,3,6,1],[1,3,1,1],[1,3,6,1],[1,3,10,1],[1,3,2,1],[1,3,4,1],[1,3,2,1],\n",
    "     [1,3,1,1],[1,3,5,1],[1,2,4,1],[1,2,2,1],[1,2,8,1],[1,2,3,1],[1,2,1,1],[1,2,9,1],\n",
    "     [1,2,10,1],[1,2,9,1],[1,2,4,1],[1,2,5,1],[1,2,0,1],[1,2,9,1],[1,2,9,1],[1,2,0,1],\n",
    "     [1,2,1,1],[1,2,1,1],[1,2,4,1],[1,1,0,1],[1,1,2,1],[1,1,2,1],[1,1,5,1],[1,1,3,1],\n",
    "     [1,1,10,1],[1,1,6,1],[1,1,0,1],[1,1,8,1],[1,1,6,1],[1,1,4,1],[1,1,9,1],[1,1,9,1],\n",
    "     [1,1,4,1],[1,1,2,1],[1,1,9,1],[1,1,0,1],[1,1,8,1],[1,1,6,1],[1,1,1,1],[1,1,1,1],\n",
    "     [1,1,5,1]]"
   ]
  },
  {
   "cell_type": "code",
   "execution_count": 6,
   "metadata": {},
   "outputs": [],
   "source": [
    "y = [68.77,51.25,52.08,38.36,44.54,57.13,51.4,41.42,31.22,34.76,\n",
    "     54.01,38.79,47.59,49.1,27.66,41.03,36.73,48.65,28.12,46.62,\n",
    "     35.57,32.98,35,26.07,23.77,39.73,40.57,31.65,31.21,36.32,20.45,\n",
    "     21.93,26.02,27.34,23.49,46.94,30.5,33.8,24.23,21.4,27.94,32.24,\n",
    "     40.57,25.07,19.42,22.39,18.42,46.96,23.72,26.41,26.97,36.76,\n",
    "     40.32,35.02,29.47,30.2,31,38.11,38.18,36.31,21.03,30.86,36.07,\n",
    "     28.66,29.08,37.28,15.28,24.17,22.31,30.17,25.53,19.85,35.37,\n",
    "     44.6,17.23,13.47,26.33,35.02,32.09,24.81,19.33,28.77,24.26,31.98,\n",
    "     25.73,24.86,16.28,34.51,15.23,39.72,40.8,26.06,35.76,34.76,16.13,\n",
    "     44.04,18.03,19.65,32.62,35.59,39.43,14.18,35.24,40.13,41.82,35.45,\n",
    "     36.07,43.67,24.61,20.9,21.9,18.79,27.61,27.21,26.61,29.77,20.59,\n",
    "     27.53,13.82,33.2,25,33.1,36.65,18.63,14.87,22.2,36.81,25.53,24.62,\n",
    "     26.25,18.21,28.08,19.42,29.79,32.8,35.99,28.32,27.79,35.88,29.06,\n",
    "     36.28,14.1,36.63,37.49,26.9,18.58,38.48,24.48,18.95,33.55,14.24,\n",
    "     29.04,32.51,25.63,22.22,19,32.73,15.16,13.9,27.2,32.01,29.27,33,\n",
    "     13.74,20.42,27.32,18.23,35.35,28.48,9.08,24.62,20.12,35.26,19.92,\n",
    "     31.02,16.49,12.16,30.7,31.22,34.65,13.13,27.51,33.2,31.57,14.1,\n",
    "     33.42,17.44,10.12,24.42,9.82,23.39,30.93,15.03,21.67,31.09,33.29,\n",
    "     22.61,26.89,23.48,8.38,27.81,32.35,23.84]"
   ]
  },
  {
   "cell_type": "code",
   "execution_count": 7,
   "metadata": {},
   "outputs": [],
   "source": [
    "def error(x_i, y_i, beta):\n",
    "    return y_i - predict(x_i, beta)"
   ]
  },
  {
   "cell_type": "code",
   "execution_count": 8,
   "metadata": {},
   "outputs": [],
   "source": [
    "def squared_error(x_i, y_i, beta):\n",
    "    return error(x_i, y_i, beta) ** 2"
   ]
  },
  {
   "cell_type": "code",
   "execution_count": 9,
   "metadata": {},
   "outputs": [],
   "source": [
    "def squared_error_gradient(x_i, y_i, beta):\n",
    "    \"\"\"the gradient (with respect to beta) corresponding to the ith squared error term\"\"\"\n",
    "    return [-2 * x_ij * error(x_i, y_i, beta)\n",
    "            for x_ij in x_i]"
   ]
  },
  {
   "cell_type": "code",
   "execution_count": 10,
   "metadata": {},
   "outputs": [],
   "source": [
    "def estimate_beta(x, y):\n",
    "    beta_initial = [random.random() for x_i in x[0]]\n",
    "    return minimize_stochastic(squared_error,\n",
    "                               squared_error_gradient,\n",
    "                               x, y,\n",
    "                               beta_initial,\n",
    "                               0.001)"
   ]
  },
  {
   "cell_type": "code",
   "execution_count": 11,
   "metadata": {},
   "outputs": [
    {
     "name": "stdout",
     "output_type": "stream",
     "text": [
      "[30.619881701311712, 0.9702056472470465, -1.8671913880379478, 0.9163711597955347]\n"
     ]
    }
   ],
   "source": [
    "random.seed(0)\n",
    "beta = estimate_beta(x, y)\n",
    "print(beta)"
   ]
  },
  {
   "cell_type": "code",
   "execution_count": 12,
   "metadata": {},
   "outputs": [
    {
     "data": {
      "text/plain": [
       "0.02529930456534995"
      ]
     },
     "execution_count": 12,
     "metadata": {},
     "output_type": "execute_result"
    }
   ],
   "source": [
    "correlation([x_i[1] for x_i in x], [x_i[2] for x_i in x])"
   ]
  },
  {
   "cell_type": "code",
   "execution_count": 13,
   "metadata": {},
   "outputs": [
    {
     "data": {
      "text/plain": [
       "[<matplotlib.lines.Line2D at 0x1101142e8>,\n",
       " <matplotlib.lines.Line2D at 0x1101144e0>]"
      ]
     },
     "execution_count": 13,
     "metadata": {},
     "output_type": "execute_result"
    },
    {
     "data": {
      "image/png": "[encoded data removed]",
      "text/plain": [
       "<Figure size 432x288 with 1 Axes>"
      ]
     },
     "metadata": {
      "needs_background": "light"
     },
     "output_type": "display_data"
    }
   ],
   "source": [
    "plt.plot([x_i[1:3] for x_i in x],\n",
    "    '--',\n",
    "    color='#30336699')"
   ]
  },
  {
   "cell_type": "code",
   "execution_count": 14,
   "metadata": {},
   "outputs": [
    {
     "name": "stdout",
     "output_type": "stream",
     "text": [
      "[23.07250671862647, 0.8902195832155126]\n"
     ]
    }
   ],
   "source": [
    "beta = estimate_beta([x_i[0:2] for x_i in x], y)\n",
    "print(beta)"
   ]
  },
  {
   "cell_type": "markdown",
   "metadata": {},
   "source": [
    "## Uncorrelated predictors"
   ]
  },
  {
   "cell_type": "code",
   "execution_count": 15,
   "metadata": {},
   "outputs": [
    {
     "data": {
      "text/plain": [
       "-0.11216408334069418"
      ]
     },
     "execution_count": 15,
     "metadata": {},
     "output_type": "execute_result"
    }
   ],
   "source": [
    "n = 100\n",
    "x_friends = [int(random.lognormvariate(mu=1, sigma=1)+1) for i in range(n)]\n",
    "x_friends.sort(reverse=True)\n",
    "x_work_hours = [int(random.normalvariate(mu=8, sigma=2)+1) for i in range(n)]\n",
    "\n",
    "correlation(x_friends, x_work_hours)"
   ]
  },
  {
   "cell_type": "code",
   "execution_count": 16,
   "metadata": {},
   "outputs": [],
   "source": [
    "beta0 = 5\n",
    "beta1 = 20\n",
    "beta2 = 2\n",
    "noise = 8\n",
    "y = [beta0 + beta1 * x_i + beta2 * w_i + int(random.normalvariate(mu=0, sigma=noise))\n",
    "     for x_i, w_i in zip(x_friends, x_work_hours)]"
   ]
  },
  {
   "cell_type": "code",
   "execution_count": 17,
   "metadata": {},
   "outputs": [
    {
     "name": "stdout",
     "output_type": "stream",
     "text": [
      "[24.24086114018211, 19.879459212012904]\n"
     ]
    }
   ],
   "source": [
    "beta = estimate_beta([[1, x_i] for x_i in x_friends], y)\n",
    "print(beta)"
   ]
  },
  {
   "cell_type": "code",
   "execution_count": 18,
   "metadata": {},
   "outputs": [
    {
     "name": "stdout",
     "output_type": "stream",
     "text": [
      "[-1.1490950289751125, 19.943700355848815, 2.767842331381796]\n"
     ]
    }
   ],
   "source": [
    "beta = estimate_beta([[1, x1_i, x2_i] for x1_i, x2_i in zip(x_friends,x_work_hours)], y)\n",
    "print(beta)"
   ]
  },
  {
   "cell_type": "markdown",
   "metadata": {},
   "source": [
    "## Correlated predictors"
   ]
  },
  {
   "cell_type": "code",
   "execution_count": 19,
   "metadata": {},
   "outputs": [
    {
     "data": {
      "text/plain": [
       "0.6182843481220309"
      ]
     },
     "execution_count": 19,
     "metadata": {},
     "output_type": "execute_result"
    }
   ],
   "source": [
    "n = 100\n",
    "x_friends = [int(random.lognormvariate(mu=1, sigma=1)+1) for i in range(n)]\n",
    "x_friends.sort(reverse=True)\n",
    "x_work_hours_0 = [int(random.normalvariate(mu=8, sigma=2)+1) for i in range(n)]\n",
    "\n",
    "c = 0.06\n",
    "x_work_hours = [x_i * sin(c*pi) + w_i * cos(c*pi)\n",
    "                for x_i, w_i in zip(x_friends, x_work_hours_0)]\n",
    "\n",
    "correlation(x_friends, x_work_hours)"
   ]
  },
  {
   "cell_type": "code",
   "execution_count": 20,
   "metadata": {},
   "outputs": [],
   "source": [
    "beta0 = 5\n",
    "beta1 = 20\n",
    "beta2 = 2\n",
    "noise = 8\n",
    "y = [beta0 + beta1 * x_i + beta2 * w_i + int(random.normalvariate(mu=0, sigma=noise))\n",
    "     for x_i, w_i in zip(x_friends, x_work_hours)]"
   ]
  },
  {
   "cell_type": "code",
   "execution_count": 21,
   "metadata": {},
   "outputs": [
    {
     "name": "stdout",
     "output_type": "stream",
     "text": [
      "[21.83016273206677]\n"
     ]
    }
   ],
   "source": [
    "beta = estimate_beta([[x_i] for x_i in x_friends], y)\n",
    "print(beta)"
   ]
  },
  {
   "cell_type": "code",
   "execution_count": 22,
   "metadata": {},
   "outputs": [
    {
     "name": "stdout",
     "output_type": "stream",
     "text": [
      "[19.99050605189383, 2.4672117470140176]\n"
     ]
    }
   ],
   "source": [
    "beta = estimate_beta([[x1_i, x2_i] for x1_i, x2_i in zip(x_friends,x_work_hours)], y)\n",
    "print(beta)"
   ]
  },
  {
   "cell_type": "markdown",
   "metadata": {},
   "source": [
    "In chapter 15 on regression, Joel mentions in passing that fitting an underspecified model can lead to biased estimates of the beta coefficients. The explanation in the book was a little bit garbled - see [errata for p. 181](https://www.oreilly.com/catalog/errata.csp?isbn=0636920033400).\n",
    "\n",
    "It's always fun to explore what can go wrong. PSU has some nice [lecture notes on Regression Methods](https://onlinecourses.science.psu.edu/stat501/node/2/). How do you know what variables belong in a regression model? Mostly, you don't. So, what happens when you get it wrong? Well, the PSU notes give 4 possibilities:\n",
    "\n",
    "* correctly specified\n",
    "* underspecified (missing important variables)\n",
    "* extraneous variables (that are neither related to the response nor to any of the other predictors)\n",
    "* overspecified (redundant predictor variables)"
   ]
  },
  {
   "cell_type": "code",
   "execution_count": 23,
   "metadata": {},
   "outputs": [],
   "source": [
    "import numpy as np"
   ]
  },
  {
   "cell_type": "code",
   "execution_count": 24,
   "metadata": {},
   "outputs": [],
   "source": [
    "n=100\n",
    "a = np.random.normal(size=n)\n",
    "a.sort()"
   ]
  },
  {
   "cell_type": "code",
   "execution_count": 25,
   "metadata": {},
   "outputs": [],
   "source": [
    "b = a + 0.5 * np.random.normal(size=n)"
   ]
  },
  {
   "cell_type": "code",
   "execution_count": 26,
   "metadata": {},
   "outputs": [
    {
     "data": {
      "text/plain": [
       "array([[1.        , 0.90365489],\n",
       "       [0.90365489, 1.        ]])"
      ]
     },
     "execution_count": 26,
     "metadata": {},
     "output_type": "execute_result"
    }
   ],
   "source": [
    "np.corrcoef(a,b)"
   ]
  },
  {
   "cell_type": "code",
   "execution_count": 27,
   "metadata": {},
   "outputs": [
    {
     "data": {
      "text/plain": [
       "<matplotlib.collections.PathCollection at 0x1125fc128>"
      ]
     },
     "execution_count": 27,
     "metadata": {},
     "output_type": "execute_result"
    },
    {
     "data": {
      "image/png": "[encoded data removed]",
      "text/plain": [
       "<Figure size 432x288 with 1 Axes>"
      ]
     },
     "metadata": {
      "needs_background": "light"
     },
     "output_type": "display_data"
    }
   ],
   "source": [
    "plt.scatter(a,b)"
   ]
  },
  {
   "cell_type": "code",
   "execution_count": 28,
   "metadata": {},
   "outputs": [],
   "source": [
    "m = np.stack((np.array([1]).repeat(n),a,b),1)"
   ]
  },
  {
   "cell_type": "code",
   "execution_count": 29,
   "metadata": {},
   "outputs": [],
   "source": [
    "beta = np.random.normal(size=m.shape[1])"
   ]
  },
  {
   "cell_type": "code",
   "execution_count": 30,
   "metadata": {},
   "outputs": [
    {
     "data": {
      "text/plain": [
       "(3,)"
      ]
     },
     "execution_count": 30,
     "metadata": {},
     "output_type": "execute_result"
    }
   ],
   "source": [
    "beta.shape"
   ]
  },
  {
   "cell_type": "code",
   "execution_count": 31,
   "metadata": {},
   "outputs": [],
   "source": [
    "y = m @ beta + np.random.normal(size=n)"
   ]
  },
  {
   "cell_type": "code",
   "execution_count": 32,
   "metadata": {},
   "outputs": [],
   "source": [
    "beta_hat = estimate_beta(m[:,0:2], y)"
   ]
  },
  {
   "cell_type": "code",
   "execution_count": 33,
   "metadata": {},
   "outputs": [
    {
     "name": "stdout",
     "output_type": "stream",
     "text": [
      "[0.39990274 1.79995912 0.59866649]\n",
      "[0.2739220693137689, 2.3212159904093594]\n"
     ]
    }
   ],
   "source": [
    "print(beta)\n",
    "print(beta_hat)"
   ]
  },
  {
   "cell_type": "code",
   "execution_count": 34,
   "metadata": {},
   "outputs": [],
   "source": [
    "y_hat = m[:,0:2] @ beta_hat"
   ]
  },
  {
   "cell_type": "code",
   "execution_count": 35,
   "metadata": {},
   "outputs": [
    {
     "data": {
      "text/plain": [
       "[<matplotlib.lines.Line2D at 0x1126366d8>]"
      ]
     },
     "execution_count": 35,
     "metadata": {},
     "output_type": "execute_result"
    },
    {
     "data": {
      "image/png": "[encoded data removed]",
      "text/plain": [
       "<Figure size 432x288 with 1 Axes>"
      ]
     },
     "metadata": {
      "needs_background": "light"
     },
     "output_type": "display_data"
    }
   ],
   "source": [
    "plt.scatter(a,y, color='#33669980')\n",
    "plt.plot(a, y_hat, 'r-')"
   ]
  },
  {
   "cell_type": "code",
   "execution_count": 36,
   "metadata": {},
   "outputs": [],
   "source": [
    "beta_hat = estimate_beta(m, y)\n",
    "y_hat = m[:,0:2] @ beta_hat[0:2]"
   ]
  },
  {
   "cell_type": "code",
   "execution_count": 37,
   "metadata": {},
   "outputs": [
    {
     "data": {
      "text/plain": [
       "[<matplotlib.lines.Line2D at 0x1126ff828>]"
      ]
     },
     "execution_count": 37,
     "metadata": {},
     "output_type": "execute_result"
    },
    {
     "data": {
      "image/png": "[encoded data removed]",
      "text/plain": [
       "<Figure size 432x288 with 1 Axes>"
      ]
     },
     "metadata": {
      "needs_background": "light"
     },
     "output_type": "display_data"
    }
   ],
   "source": [
    "plt.scatter(a,y, color='#33669980')\n",
    "plt.plot(a, y_hat, 'r-')"
   ]
  },
  {
   "cell_type": "markdown",
   "metadata": {},
   "source": [
    "### distribution of underspecified beta"
   ]
  },
  {
   "cell_type": "code",
   "execution_count": 38,
   "metadata": {},
   "outputs": [],
   "source": [
    "n=100\n",
    "trials = 1000\n",
    "beta_err = []\n",
    "for i in range(trials):\n",
    "    a = np.random.normal(size=n)\n",
    "    a.sort()\n",
    "    b = a + 0.5 * np.random.normal(size=n)\n",
    "    m = np.stack((np.array([1]).repeat(n),a,b),1)\n",
    "    beta = np.array([30, 1, -2])\n",
    "    y = m @ beta + np.random.normal(size=n)\n",
    "    beta_hat = estimate_beta(m[:,0:2], y)\n",
    "    beta_err.append(beta_hat - beta[0:len(beta_hat)])"
   ]
  },
  {
   "cell_type": "code",
   "execution_count": 42,
   "metadata": {},
   "outputs": [
    {
     "data": {
      "text/plain": [
       "-2.001177811826612"
      ]
     },
     "execution_count": 42,
     "metadata": {},
     "output_type": "execute_result"
    }
   ],
   "source": [
    "np.mean([be[1]\n",
    "         for be in beta_err])"
   ]
  },
  {
   "cell_type": "code",
   "execution_count": 40,
   "metadata": {},
   "outputs": [
    {
     "data": {
      "text/plain": [
       "<matplotlib.axes._subplots.AxesSubplot at 0x1127934e0>"
      ]
     },
     "execution_count": 40,
     "metadata": {},
     "output_type": "execute_result"
    },
    {
     "data": {
      "image/png": "[encoded data removed]",
      "text/plain": [
       "<Figure size 432x288 with 1 Axes>"
      ]
     },
     "metadata": {
      "needs_background": "light"
     },
     "output_type": "display_data"
    }
   ],
   "source": [
    "sns.distplot([be[1] for be in beta_err], hist = False, kde = True,\n",
    "                 kde_kws = {'shade': True, 'linewidth': 2})"
   ]
  },
  {
   "cell_type": "code",
   "execution_count": null,
   "metadata": {},
   "outputs": [],
   "source": []
  }
 ],
 "metadata": {
  "kernelspec": {
   "display_name": "Python 3",
   "language": "python",
   "name": "python3"
  },
  "language_info": {
   "codemirror_mode": {
    "name": "ipython",
    "version": 3
   },
   "file_extension": ".py",
   "mimetype": "text/x-python",
   "name": "python",
   "nbconvert_exporter": "python",
   "pygments_lexer": "ipython3",
   "version": "3.7.0"
  }
 },
 "nbformat": 4,
 "nbformat_minor": 2
}
